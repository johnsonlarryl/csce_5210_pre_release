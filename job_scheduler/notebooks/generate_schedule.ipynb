{
 "cells": [
  {
   "cell_type": "code",
   "execution_count": 1,
   "id": "fd3bbf31-14b9-4170-a34e-b8728aa674fc",
   "metadata": {},
   "outputs": [],
   "source": [
    "import matplotlib.pyplot as plt\n",
    "import networkx as nx\n",
    "from networkx import DiGraph\n",
    "import numpy as np\n",
    "import os\n",
    "import sys\n",
    "from typing import List, Tuple"
   ]
  },
  {
   "cell_type": "code",
   "execution_count": 2,
   "id": "00191937-f7f2-4474-b420-8e7476311afd",
   "metadata": {},
   "outputs": [],
   "source": [
    "sys.path.append(\"../\")\n",
    "test_dir = os.path.abspath(\"../tests\")\n",
    "sys.path.append(test_dir)"
   ]
  },
  {
   "cell_type": "code",
   "execution_count": 3,
   "id": "08fa4b31-c7da-4fdf-b005-e986931bc10c",
   "metadata": {},
   "outputs": [],
   "source": [
    "from job_scheduler.model import Job, Operation, Schedule, ScheduledJob\n",
    "from job_scheduler.optimizer import ScheduleOptimizer\n",
    "from job_scheduler.scheduler import JobScheduler"
   ]
  },
  {
   "cell_type": "code",
   "execution_count": 4,
   "id": "f262d735-293d-45b3-9364-a5486b4e963a",
   "metadata": {},
   "outputs": [
    {
     "data": {
      "text/plain": [
       "[ScheduledJob(job_id=4, operations=[Operation(id=1, time=2), Operation(id=2, time=4)]),\n",
       " ScheduledJob(job_id=1, operations=[Operation(id=1, time=3), Operation(id=2, time=6)]),\n",
       " ScheduledJob(job_id=5, operations=[Operation(id=1, time=8), Operation(id=2, time=8)]),\n",
       " ScheduledJob(job_id=3, operations=[Operation(id=1, time=3), Operation(id=2, time=2)]),\n",
       " ScheduledJob(job_id=2, operations=[Operation(id=1, time=10), Operation(id=2, time=1)])]"
      ]
     },
     "execution_count": 4,
     "metadata": {},
     "output_type": "execute_result"
    }
   ],
   "source": [
    "job_1 = ScheduledJob(job_id=1, operations=[Operation(id=1, time=3), Operation(id=2, time=6)])\n",
    "job_2 = ScheduledJob(job_id=2, operations=[Operation(id=1, time=10), Operation(id=2, time=1)])\n",
    "job_3 = ScheduledJob(job_id=3, operations=[Operation(id=1, time=3), Operation(id=2, time=2)])\n",
    "job_4 = ScheduledJob(job_id=4, operations=[Operation(id=1, time=2), Operation(id=2, time=4)])\n",
    "job_5 = ScheduledJob(job_id=5, operations=[Operation(id=1, time=8), Operation(id=2, time=8)])\n",
    "\n",
    "job_operations = [job_4, job_1, job_5, job_3, job_2]\n",
    "job_operations"
   ]
  },
  {
   "cell_type": "code",
   "execution_count": 5,
   "id": "1911a986-d8b6-4d03-ab15-8fda6558e712",
   "metadata": {},
   "outputs": [
    {
     "data": {
      "text/plain": [
       "<job_scheduler.scheduler.JobScheduler at 0x14e4e8070>"
      ]
     },
     "execution_count": 5,
     "metadata": {},
     "output_type": "execute_result"
    }
   ],
   "source": [
    "job_scheduler = JobScheduler(num_of_machines=2, num_ops_per_machine=2, scheduled_jobs=job_operations)\n",
    "job_scheduler"
   ]
  },
  {
   "cell_type": "code",
   "execution_count": 6,
   "id": "42b43f8f-4a7b-427e-8bf1-d1afc1525b61",
   "metadata": {},
   "outputs": [
    {
     "data": {
      "text/plain": [
       "Schedule(jobs=[Job(id=4, operations={'directed': True, 'nodes': [{'id': 'J422'}, {'id': 'start'}, {'id': 'J423'}, {'id': 'J411'}], 'links': [{'source': 'start', 'target': 'J411', 'weight': 2, 'parallel_machines': [('start', 'J411'), ('start', 'J422')]}, {'source': 'start', 'target': 'J422', 'weight': 2, 'parallel_machines': [('start', 'J411'), ('start', 'J422')]}, {'source': 'J422', 'target': 'J423', 'weight': 2, 'parallel_machines': [('J422', 'J423')]}]}), Job(id=1, operations={'directed': True, 'nodes': [{'id': 'J113'}, {'id': 'J125'}, {'id': 'J124'}, {'id': 'J111'}, {'id': 'J423'}, {'id': 'J122'}], 'links': [{'source': 'J423', 'target': 'J122', 'weight': 2, 'parallel_machines': [('J423', 'J111'), ('J423', 'J122')]}, {'source': 'J423', 'target': 'J111', 'weight': 2, 'parallel_machines': [('J423', 'J111'), ('J423', 'J122')]}, {'source': 'J122', 'target': 'J124', 'weight': 2, 'parallel_machines': [('J122', 'J113'), ('J122', 'J124')]}, {'source': 'J122', 'target': 'J113', 'weight': 1, 'parallel_machines': [('J122', 'J113'), ('J122', 'J124')]}, {'source': 'J124', 'target': 'J125', 'weight': 2, 'parallel_machines': [('J124', 'J125')]}]}), Job(id=5, operations={'directed': True, 'nodes': [{'id': 'J526'}, {'id': 'J517'}, {'id': 'J125'}, {'id': 'J522'}, {'id': 'J511'}, {'id': 'J528'}, {'id': 'J524'}, {'id': 'J515'}, {'id': 'J513'}], 'links': [{'source': 'J125', 'target': 'J511', 'weight': 2, 'parallel_machines': [('J125', 'J511'), ('J125', 'J522')]}, {'source': 'J125', 'target': 'J522', 'weight': 2, 'parallel_machines': [('J125', 'J511'), ('J125', 'J522')]}, {'source': 'J522', 'target': 'J524', 'weight': 2, 'parallel_machines': [('J522', 'J513'), ('J522', 'J524')]}, {'source': 'J522', 'target': 'J513', 'weight': 2, 'parallel_machines': [('J522', 'J513'), ('J522', 'J524')]}, {'source': 'J524', 'target': 'J526', 'weight': 2, 'parallel_machines': [('J524', 'J515'), ('J524', 'J526')]}, {'source': 'J524', 'target': 'J515', 'weight': 2, 'parallel_machines': [('J524', 'J515'), ('J524', 'J526')]}, {'source': 'J526', 'target': 'J517', 'weight': 2, 'parallel_machines': [('J526', 'J517'), ('J526', 'J528')]}, {'source': 'J526', 'target': 'J528', 'weight': 2, 'parallel_machines': [('J526', 'J517'), ('J526', 'J528')]}]}), Job(id=3, operations={'directed': True, 'nodes': [{'id': 'J528'}, {'id': 'J313'}, {'id': 'J311'}, {'id': 'J322'}], 'links': [{'source': 'J528', 'target': 'J322', 'weight': 2, 'parallel_machines': [('J528', 'J311'), ('J528', 'J322')]}, {'source': 'J528', 'target': 'J311', 'weight': 2, 'parallel_machines': [('J528', 'J311'), ('J528', 'J322')]}, {'source': 'J322', 'target': 'J313', 'weight': 1, 'parallel_machines': [('J322', 'J313')]}]}), Job(id=2, operations={'directed': True, 'nodes': [{'id': 'J221'}, {'id': 'J224'}, {'id': 'J225'}, {'id': 'J226'}, {'id': 'J313'}, {'id': 'J212'}, {'id': 'J223'}], 'links': [{'source': 'J313', 'target': 'J212', 'weight': 1, 'parallel_machines': [('J313', 'J221'), ('J313', 'J212')]}, {'source': 'J313', 'target': 'J221', 'weight': 2, 'parallel_machines': [('J313', 'J221'), ('J313', 'J212')]}, {'source': 'J212', 'target': 'J223', 'weight': 2, 'parallel_machines': [('J212', 'J223')]}, {'source': 'J223', 'target': 'J224', 'weight': 2, 'parallel_machines': [('J223', 'J224')]}, {'source': 'J224', 'target': 'J225', 'weight': 2, 'parallel_machines': [('J224', 'J225')]}, {'source': 'J225', 'target': 'J226', 'weight': 2, 'parallel_machines': [('J225', 'J226')]}]})], debug=False)"
      ]
     },
     "execution_count": 6,
     "metadata": {},
     "output_type": "execute_result"
    }
   ],
   "source": [
    "schedule = job_scheduler.generate_schedule()\n",
    "schedule"
   ]
  },
  {
   "cell_type": "code",
   "execution_count": 7,
   "id": "f5620fb0-6314-40a3-9d84-b937b304f57c",
   "metadata": {},
   "outputs": [
    {
     "data": {
      "text/plain": [
       "{'directed': True,\n",
       " 'nodes': [{'id': 'J422'}, {'id': 'start'}, {'id': 'J423'}, {'id': 'J411'}],\n",
       " 'links': [{'source': 'start',\n",
       "   'target': 'J411',\n",
       "   'weight': 2,\n",
       "   'parallel_machines': [('start', 'J411'), ('start', 'J422')]},\n",
       "  {'source': 'start',\n",
       "   'target': 'J422',\n",
       "   'weight': 2,\n",
       "   'parallel_machines': [('start', 'J411'), ('start', 'J422')]},\n",
       "  {'source': 'J422',\n",
       "   'target': 'J423',\n",
       "   'weight': 2,\n",
       "   'parallel_machines': [('J422', 'J423')]}]}"
      ]
     },
     "execution_count": 7,
     "metadata": {},
     "output_type": "execute_result"
    }
   ],
   "source": [
    "schedule.jobs[0].operations"
   ]
  },
  {
   "cell_type": "code",
   "execution_count": 9,
   "id": "d7cc8127-e7ea-4d88-8e2e-f822c546d9da",
   "metadata": {},
   "outputs": [],
   "source": [
    "fig_size = (4, 4)"
   ]
  },
  {
   "cell_type": "code",
   "execution_count": 10,
   "id": "c923a1ae-7116-44a3-aa23-a2fc7bb0b166",
   "metadata": {},
   "outputs": [
    {
     "data": {
      "image/png": "[encoded data removed]",
      "text/plain": [
       "<Figure size 400x400 with 1 Axes>"
      ]
     },
     "metadata": {},
     "output_type": "display_data"
    }
   ],
   "source": [
    "j4_schedule = JobScheduler.load_graph(schedule.jobs[0].operations)\n",
    "JobScheduler.visualize_schedule(j4_schedule, fig_size)"
   ]
  },
  {
   "cell_type": "code",
   "execution_count": 12,
   "id": "264f2275-ee79-4f6f-9347-180b164b5d6e",
   "metadata": {},
   "outputs": [
    {
     "data": {
      "image/png": "[encoded data removed]",
      "text/plain": [
       "<Figure size 400x400 with 1 Axes>"
      ]
     },
     "metadata": {},
     "output_type": "display_data"
    }
   ],
   "source": [
    "j1_schedule = JobScheduler.load_graph(schedule.jobs[1].operations)\n",
    "JobScheduler.visualize_schedule(j1_schedule, fig_size)"
   ]
  },
  {
   "cell_type": "code",
   "execution_count": null,
   "id": "efce1705-d176-4971-a22f-89bdc0d52204",
   "metadata": {},
   "outputs": [],
   "source": []
  },
  {
   "cell_type": "code",
   "execution_count": null,
   "id": "16a0378e-00d6-45a0-a364-6a0a32a6ffb8",
   "metadata": {},
   "outputs": [],
   "source": []
  }
 ],
 "metadata": {
  "kernelspec": {
   "display_name": "Python 3 (ipykernel)",
   "language": "python",
   "name": "python3"
  },
  "language_info": {
   "codemirror_mode": {
    "name": "ipython",
    "version": 3
   },
   "file_extension": ".py",
   "mimetype": "text/x-python",
   "name": "python",
   "nbconvert_exporter": "python",
   "pygments_lexer": "ipython3",
   "version": "3.9.5"
  }
 },
 "nbformat": 4,
 "nbformat_minor": 5
}
