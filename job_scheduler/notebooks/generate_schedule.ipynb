{
 "cells": [
  {
   "cell_type": "code",
   "execution_count": 1,
   "id": "fd3bbf31-14b9-4170-a34e-b8728aa674fc",
   "metadata": {},
   "outputs": [],
   "source": [
    "import matplotlib.pyplot as plt\n",
    "import networkx as nx\n",
    "from networkx import DiGraph\n",
    "import numpy as np\n",
    "import os\n",
    "import sys\n",
    "from typing import List, Tuple"
   ]
  },
  {
   "cell_type": "code",
   "execution_count": 2,
   "id": "00191937-f7f2-4474-b420-8e7476311afd",
   "metadata": {},
   "outputs": [],
   "source": [
    "sys.path.append(\"../\")\n",
    "test_dir = os.path.abspath(\"../tests\")\n",
    "sys.path.append(test_dir)"
   ]
  },
  {
   "cell_type": "code",
   "execution_count": 3,
   "id": "08fa4b31-c7da-4fdf-b005-e986931bc10c",
   "metadata": {},
   "outputs": [],
   "source": [
    "from job_scheduler.model import Job, Schedule\n",
    "from job_scheduler.optimizer import ScheduleOptimizer\n",
    "from job_scheduler.scheduler import JobScheduler"
   ]
  },
  {
   "cell_type": "code",
   "execution_count": null,
   "id": "42b43f8f-4a7b-427e-8bf1-d1afc1525b61",
   "metadata": {},
   "outputs": [],
   "source": []
  }
 ],
 "metadata": {
  "kernelspec": {
   "display_name": "Python 3 (ipykernel)",
   "language": "python",
   "name": "python3"
  },
  "language_info": {
   "codemirror_mode": {
    "name": "ipython",
    "version": 3
   },
   "file_extension": ".py",
   "mimetype": "text/x-python",
   "name": "python",
   "nbconvert_exporter": "python",
   "pygments_lexer": "ipython3",
   "version": "3.9.5"
  }
 },
 "nbformat": 4,
 "nbformat_minor": 5
}
