{
 "cells": [
  {
   "cell_type": "code",
   "execution_count": null,
   "id": "5fe7a915-de60-4d17-a749-d53c6fee76af",
   "metadata": {},
   "outputs": [],
   "source": [
    "# Alteryx code to call to SAP with a more simple query or more explainable SAP pipeline\n",
    "# Alteryx produces rework_inventory data"
   ]
  },
  {
   "cell_type": "code",
   "execution_count": null,
   "id": "21238627-0f24-40fc-8615-4fafe8d35cd0",
   "metadata": {},
   "outputs": [],
   "source": [
    "# In our existing code base\n",
    "def run(batch_ework_inventory]):\n",
    "    ...."
   ]
  },
  {
   "cell_type": "code",
   "execution_count": null,
   "id": "8d18fefc-2293-495b-8ea1-d1e6ca8660aa",
   "metadata": {},
   "outputs": [],
   "source": [
    "rework_inventory = ....\n",
    "etl.run(rework_inventory)"
   ]
  }
 ],
 "metadata": {
  "kernelspec": {
   "display_name": "Python 3 (ipykernel)",
   "language": "python",
   "name": "python3"
  },
  "language_info": {
   "codemirror_mode": {
    "name": "ipython",
    "version": 3
   },
   "file_extension": ".py",
   "mimetype": "text/x-python",
   "name": "python",
   "nbconvert_exporter": "python",
   "pygments_lexer": "ipython3",
   "version": "3.9.5"
  }
 },
 "nbformat": 4,
 "nbformat_minor": 5
}
