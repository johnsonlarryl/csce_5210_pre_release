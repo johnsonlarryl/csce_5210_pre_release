{
 "cells": [
  {
   "cell_type": "markdown",
   "metadata": {
    "id": "9zcLwWLtIgLB"
   },
   "source": [
    "This is a basic tool for graph (or network, we shall use the terms interchangeably) creation and traversal.\n",
    "\n",
    "This tutorial MUST be read in conjunction with the official networkx documentation which is at: https://networkx.org/documentation/stable/reference/index.html"
   ]
  },
  {
   "cell_type": "markdown",
   "metadata": {
    "id": "QIuwUcKUpCQF"
   },
   "source": [
    "This tutorial is the backbone of Project1 when used with Tutorial 2."
   ]
  },
  {
   "cell_type": "code",
   "execution_count": 1,
   "metadata": {
    "id": "Oo2Q5BtgjnPR"
   },
   "outputs": [],
   "source": [
    "import networkx as nx # create an empty graph\n",
    "import matplotlib.pyplot as plt\n",
    "from itertools import permutations\n",
    "import sys"
   ]
  },
  {
   "cell_type": "code",
   "execution_count": 2,
   "metadata": {},
   "outputs": [],
   "source": [
    "sys.path.append(\"../:../tests\")"
   ]
  },
  {
   "cell_type": "code",
   "execution_count": 3,
   "metadata": {},
   "outputs": [
    {
     "ename": "ModuleNotFoundError",
     "evalue": "No module named 'conftest'",
     "output_type": "error",
     "traceback": [
      "\u001b[0;31m---------------------------------------------------------------------------\u001b[0m",
      "\u001b[0;31mModuleNotFoundError\u001b[0m                       Traceback (most recent call last)",
      "Cell \u001b[0;32mIn[3], line 1\u001b[0m\n\u001b[0;32m----> 1\u001b[0m \u001b[38;5;28;01mfrom\u001b[39;00m \u001b[38;5;21;01mconftest\u001b[39;00m \u001b[38;5;28;01mimport\u001b[39;00m static_city_map\n",
      "\u001b[0;31mModuleNotFoundError\u001b[0m: No module named 'conftest'"
     ]
    }
   ],
   "source": [
    "from conftest import static_city_map"
   ]
  },
  {
   "cell_type": "code",
   "execution_count": 4,
   "metadata": {},
   "outputs": [
    {
     "ename": "ModuleNotFoundError",
     "evalue": "No module named 'traffic_simulator'",
     "output_type": "error",
     "traceback": [
      "\u001b[0;31m---------------------------------------------------------------------------\u001b[0m",
      "\u001b[0;31mModuleNotFoundError\u001b[0m                       Traceback (most recent call last)",
      "Cell \u001b[0;32mIn[4], line 1\u001b[0m\n\u001b[0;32m----> 1\u001b[0m \u001b[38;5;28;01mfrom\u001b[39;00m \u001b[38;5;21;01mtraffic_simulator\u001b[39;00m\u001b[38;5;21;01m.\u001b[39;00m\u001b[38;5;21;01mmodel\u001b[39;00m \u001b[38;5;28;01mimport\u001b[39;00m Road\n",
      "\u001b[0;31mModuleNotFoundError\u001b[0m: No module named 'traffic_simulator'"
     ]
    }
   ],
   "source": [
    "from traffic_simulator.model import Road"
   ]
  },
  {
   "cell_type": "code",
   "execution_count": 169,
   "metadata": {
    "id": "kKC0-qc-XG6j"
   },
   "outputs": [],
   "source": [
    "# create example graph for R2\n",
    "G=nx.Graph()\n",
    "# G.add_edges_from([(0,1, {'weight': 6}), (0, 4, {'weight': 9}), (1, 3,{'weight': 11}), (2,4, {'weight': 10}), (3,4, {'weight': 7})])\n",
    "G.add_edges_from([(0,1, {'weight': 50}), (0, 4, {'weight': 9}), (1, 3,{'weight': 11}), (2,4, {'weight': 10}), (3,4, {'weight': 7})])"
   ]
  },
  {
   "cell_type": "code",
   "execution_count": 170,
   "metadata": {
    "colab": {
     "base_uri": "https://localhost:8080/",
     "height": 755
    },
    "id": "b6nWI_rOKMeo",
    "outputId": "1744df6a-e92b-4c23-f474-88f5f3362236"
   },
   "outputs": [
    {
     "name": "stdout",
     "output_type": "stream",
     "text": [
      "node degree and node clustering\n",
      "0 2 0\n",
      "1 2 0\n",
      "4 3 0\n",
      "3 2 0\n",
      "2 1 0\n",
      "\n",
      "the adjacency list\n",
      "0 1 4\n",
      "1 3\n",
      "4 2 3\n",
      "3\n",
      "2\n",
      "{(0, 1): 50, (0, 4): 9, (1, 3): 11, (4, 2): 10, (4, 3): 7}\n"
     ]
    },
    {
     "name": "stderr",
     "output_type": "stream",
     "text": [
      "/var/folders/3n/7kvkbqjd0l9grdj7kptkcfgr0000gn/T/ipykernel_7458/3146715701.py:12: DeprecationWarning: nx.nx_pydot.graphviz_layout depends on the pydot package, which has known issues and is not actively maintained. Consider using nx.nx_agraph.graphviz_layout instead.\n",
      "\n",
      "See https://github.com/networkx/networkx/issues/5723\n",
      "  pos = nx.nx_pydot.graphviz_layout(G)\n"
     ]
    },
    {
     "data": {
      "image/png": "[encoded data removed]",
      "text/plain": [
       "<Figure size 640x480 with 1 Axes>"
      ]
     },
     "metadata": {},
     "output_type": "display_data"
    }
   ],
   "source": [
    "\n",
    "\n",
    "# some properties\n",
    "print(\"node degree and node clustering\")\n",
    "for v in nx.nodes(G):\n",
    "    print(f\"{v} {nx.degree(G, v)} {nx.clustering(G, v)}\")\n",
    "\n",
    "print()\n",
    "print(\"the adjacency list\")\n",
    "for line in nx.generate_adjlist(G):\n",
    "    print(line)\n",
    "\n",
    "links = [(u, v) for (u, v, d) in G.edges(data=True)]\n",
    "pos = nx.nx_pydot.graphviz_layout(G)\n",
    "nx.draw_networkx_nodes(G, pos, node_size=1200, node_color='lightblue', linewidths=0.25) # draw nodes\n",
    "nx.draw_networkx_edges(G, pos, edgelist=links, width=4)                               # draw edges\n",
    "\n",
    "# node labels\n",
    "nx.draw_networkx_labels(G, pos, font_size=20, font_family=\"sans-serif\")\n",
    "# edge weight labels\n",
    "\n",
    "edge_labels = nx.get_edge_attributes(G, 'weight','trips')\n",
    "print(edge_labels)\n",
    "#print(\"%.2f\" % edge_labels)\n",
    "nx.draw_networkx_edge_labels(G, pos, edge_labels)\n",
    "\n",
    "plt.show()\n"
   ]
  },
  {
   "cell_type": "code",
   "execution_count": 46,
   "metadata": {
    "colab": {
     "base_uri": "https://localhost:8080/"
    },
    "id": "bkZViO2BV-6j",
    "outputId": "8f1469d0-81ca-4be3-8da4-fe9a445f1a82"
   },
   "outputs": [
    {
     "data": {
      "text/plain": [
       "[2, 4, 0, 1]"
      ]
     },
     "execution_count": 46,
     "metadata": {},
     "output_type": "execute_result"
    }
   ],
   "source": [
    "nx.shortest_path(G,2,1,method='dijkstra')     # find the shortest path between two nodes using Dijkstra's algorithm; in this case between two nodes"
   ]
  },
  {
   "cell_type": "markdown",
   "metadata": {
    "id": "6Pfwe74kEAJP"
   },
   "source": [
    "Q1) Find the length of the shortest path using Dijsktra's algorithm."
   ]
  },
  {
   "cell_type": "code",
   "execution_count": 47,
   "metadata": {
    "colab": {
     "base_uri": "https://localhost:8080/"
    },
    "id": "UnBCUE1hyEhG",
    "outputId": "5746dfaf-2b23-4632-8c25-eac56f21baba"
   },
   "outputs": [
    {
     "data": {
      "text/plain": [
       "25"
      ]
     },
     "execution_count": 47,
     "metadata": {},
     "output_type": "execute_result"
    }
   ],
   "source": [
    "nx.dijkstra_path_length(G,2,1)"
   ]
  },
  {
   "cell_type": "markdown",
   "metadata": {
    "id": "J1s5mZVB50Qz"
   },
   "source": [
    "Q2) Make use of the A* algorithm to find the shortest path;  A* in general is faster than Dijkstra's algorithm."
   ]
  },
  {
   "cell_type": "code",
   "execution_count": 48,
   "metadata": {
    "colab": {
     "base_uri": "https://localhost:8080/"
    },
    "id": "I9nT2Cwmye0Y",
    "outputId": "0d48b292-71d2-4968-822a-2c425212a1a2"
   },
   "outputs": [
    {
     "data": {
      "text/plain": [
       "[2, 4, 0, 1]"
      ]
     },
     "execution_count": 48,
     "metadata": {},
     "output_type": "execute_result"
    }
   ],
   "source": [
    "nx.astar_path(G,2,1)"
   ]
  },
  {
   "cell_type": "markdown",
   "metadata": {
    "id": "h-B5GWzJEaVu"
   },
   "source": [
    "Q3) Find the length of the shortest path using the A* algorithm."
   ]
  },
  {
   "cell_type": "code",
   "execution_count": 49,
   "metadata": {
    "colab": {
     "base_uri": "https://localhost:8080/"
    },
    "id": "2gBElkXSzEK5",
    "outputId": "3778615d-d0e9-4341-ef9f-d380800b8df7"
   },
   "outputs": [
    {
     "data": {
      "text/plain": [
       "25"
      ]
     },
     "execution_count": 49,
     "metadata": {},
     "output_type": "execute_result"
    }
   ],
   "source": [
    "nx.astar_path_length(G,2,1)"
   ]
  },
  {
   "cell_type": "code",
   "execution_count": null,
   "metadata": {},
   "outputs": [],
   "source": []
  },
  {
   "cell_type": "code",
   "execution_count": 173,
   "metadata": {},
   "outputs": [
    {
     "data": {
      "text/plain": [
       "[0, 4, 3, 1]"
      ]
     },
     "execution_count": 173,
     "metadata": {},
     "output_type": "execute_result"
    }
   ],
   "source": [
    "nx.astar_path(G, 0, 1)"
   ]
  },
  {
   "cell_type": "code",
   "execution_count": 174,
   "metadata": {},
   "outputs": [
    {
     "data": {
      "text/plain": [
       "27"
      ]
     },
     "execution_count": 174,
     "metadata": {},
     "output_type": "execute_result"
    }
   ],
   "source": [
    "nx.astar_path_length(G, 0, 1)"
   ]
  },
  {
   "cell_type": "code",
   "execution_count": 69,
   "metadata": {},
   "outputs": [
    {
     "name": "stdout",
     "output_type": "stream",
     "text": [
      "(0,3)\n",
      "(1,3)\n",
      "(0,3)\n",
      "(4,3)\n",
      "(3,3)\n",
      "(4,3)\n",
      "(4,3)\n",
      "(3,3)\n",
      "(0,3)\n",
      "(1,3)\n",
      "(4,3)\n",
      "(3,3)\n",
      "(0,3)\n",
      "(1,3)\n",
      "(3,3)\n",
      "(1,3)\n"
     ]
    }
   ],
   "source": [
    "# Find all possible paths between all pairs of nodes\n",
    "all_paths = []\n",
    "for source in G.nodes():\n",
    "    for destination in G.nodes():\n",
    "        if source != target:\n",
    "            paths = nx.all_simple_paths(G, source=source, target=destination)\n",
    "            for path in paths:\n",
    "                source = path[0]\n",
    "                destination = path[-1]\n",
    "                all_paths.append([source, destination])\n",
    "\n",
    "# Remove duplicates from the list\n",
    "all_paths = list(set(map(tuple, all_paths)))\n",
    "\n",
    "road_candidates = []\n",
    "\n",
    "for path in all_paths:\n",
    "    source = path[0]\n",
    "    print(f\"({source},{desination})\")"
   ]
  },
  {
   "cell_type": "code",
   "execution_count": 61,
   "metadata": {},
   "outputs": [
    {
     "data": {
      "text/plain": [
       "16"
      ]
     },
     "execution_count": 61,
     "metadata": {},
     "output_type": "execute_result"
    }
   ],
   "source": [
    "len(all_paths)"
   ]
  },
  {
   "cell_type": "code",
   "execution_count": null,
   "metadata": {},
   "outputs": [],
   "source": []
  },
  {
   "cell_type": "code",
   "execution_count": 41,
   "metadata": {},
   "outputs": [
    {
     "data": {
      "text/plain": [
       "[]"
      ]
     },
     "execution_count": 41,
     "metadata": {},
     "output_type": "execute_result"
    }
   ],
   "source": [
    "all_nodes = list(G.nodes())\n",
    "all_nodes"
   ]
  },
  {
   "cell_type": "code",
   "execution_count": 58,
   "metadata": {},
   "outputs": [
    {
     "name": "stdout",
     "output_type": "stream",
     "text": [
      "List of trips:\n",
      "(0, 1)\n",
      "(0, 4)\n",
      "(0, 3)\n",
      "(0, 2)\n",
      "(1, 0)\n",
      "(1, 4)\n",
      "(1, 3)\n",
      "(1, 2)\n",
      "(4, 0)\n",
      "(4, 1)\n",
      "(4, 3)\n",
      "(4, 2)\n",
      "(3, 0)\n",
      "(3, 1)\n",
      "(3, 4)\n",
      "(3, 2)\n",
      "(2, 0)\n",
      "(2, 1)\n",
      "(2, 4)\n",
      "(2, 3)\n"
     ]
    }
   ],
   "source": [
    "# Get all nodes in the graph\n",
    "all_nodes = list(G.nodes())\n",
    "trips = []\n",
    "\n",
    "# Create a list of permutations of pairs of nodes\n",
    "for source, destination in permutations(all_nodes, 2):\n",
    "    trips.append((source, destination))\n",
    "\n",
    "# Print the list of permutations\n",
    "print(\"List of trips:\")\n",
    "for trip in trips:\n",
    "    print(trip)"
   ]
  },
  {
   "cell_type": "code",
   "execution_count": 60,
   "metadata": {},
   "outputs": [
    {
     "data": {
      "text/plain": [
       "20"
      ]
     },
     "execution_count": 60,
     "metadata": {},
     "output_type": "execute_result"
    }
   ],
   "source": [
    "len(trips)"
   ]
  },
  {
   "cell_type": "code",
   "execution_count": 66,
   "metadata": {},
   "outputs": [
    {
     "data": {
      "text/plain": [
       "20"
      ]
     },
     "execution_count": 66,
     "metadata": {},
     "output_type": "execute_result"
    }
   ],
   "source": [
    "len(set(trips))"
   ]
  },
  {
   "cell_type": "code",
   "execution_count": 68,
   "metadata": {},
   "outputs": [
    {
     "data": {
      "text/plain": [
       "16"
      ]
     },
     "execution_count": 68,
     "metadata": {},
     "output_type": "execute_result"
    }
   ],
   "source": [
    "len(set(all_paths))"
   ]
  },
  {
   "cell_type": "code",
   "execution_count": 63,
   "metadata": {},
   "outputs": [
    {
     "data": {
      "text/plain": [
       "{(2, 0), (2, 1), (2, 3), (2, 4)}"
      ]
     },
     "execution_count": 63,
     "metadata": {},
     "output_type": "execute_result"
    }
   ],
   "source": [
    "set(trips) - set(all_paths)"
   ]
  },
  {
   "cell_type": "code",
   "execution_count": 64,
   "metadata": {},
   "outputs": [
    {
     "data": {
      "text/plain": [
       "set()"
      ]
     },
     "execution_count": 64,
     "metadata": {},
     "output_type": "execute_result"
    }
   ],
   "source": [
    "set(all_paths) - set(trips)"
   ]
  },
  {
   "cell_type": "code",
   "execution_count": 71,
   "metadata": {},
   "outputs": [
    {
     "name": "stdout",
     "output_type": "stream",
     "text": [
      "(0, 1)\n",
      "(0, 4)\n",
      "(0, 3)\n",
      "(0, 2)\n",
      "(1, 0)\n",
      "(1, 4)\n",
      "(1, 3)\n",
      "(1, 2)\n",
      "(4, 0)\n",
      "(4, 1)\n",
      "(4, 3)\n",
      "(4, 2)\n",
      "(3, 0)\n",
      "(3, 1)\n",
      "(3, 4)\n",
      "(3, 2)\n",
      "(2, 0)\n",
      "(2, 1)\n",
      "(2, 4)\n",
      "(2, 3)\n"
     ]
    }
   ],
   "source": [
    "for trip in trips:\n",
    "    source = trip[0]\n",
    "    destination = trip[1]\n",
    "\n",
    "    if nx.has_path(G, source, source):\n",
    "        print((source, destination))"
   ]
  },
  {
   "cell_type": "code",
   "execution_count": 8,
   "metadata": {
    "id": "Dy11SN0ZaOiP"
   },
   "outputs": [],
   "source": [
    "seed=1000           # seed the graph for reproducibility, you should be doing this once you generate a connected graph\n",
    "G= nx.gnp_random_graph (60, .06, seed=seed) # uncomment this and the above line once you have a connected graph.\n",
    "# G= nx.gnp_random_graph (60, .06)       # here we create a random binomial graph with 10 nodes and an average (expected) connectivity of 10*.3= 3."
   ]
  },
  {
   "cell_type": "code",
   "execution_count": 9,
   "metadata": {
    "colab": {
     "base_uri": "https://localhost:8080/"
    },
    "id": "7h0CUUcTapfx",
    "outputId": "9cd1704e-3742-4b0e-d859-dd6434982626"
   },
   "outputs": [
    {
     "data": {
      "text/plain": [
       "False"
      ]
     },
     "execution_count": 9,
     "metadata": {},
     "output_type": "execute_result"
    }
   ],
   "source": [
    "nx.is_connected(G)      # check whether G which has at least one path between each pair of nodes."
   ]
  },
  {
   "cell_type": "code",
   "execution_count": 10,
   "metadata": {
    "id": "AraQMiofF3qh"
   },
   "outputs": [],
   "source": [
    "from random import randint\n",
    "for u, v in G.edges:\n",
    "  G.add_edge(u, v, weight=randint(5,25))"
   ]
  },
  {
   "cell_type": "code",
   "execution_count": 27,
   "metadata": {},
   "outputs": [
    {
     "data": {
      "text/plain": [
       "<generator object _all_simple_paths_graph at 0x126a17190>"
      ]
     },
     "execution_count": 27,
     "metadata": {},
     "output_type": "execute_result"
    }
   ],
   "source": [
    "nx.all_simple_paths(G, 0, 2)"
   ]
  },
  {
   "cell_type": "code",
   "execution_count": 24,
   "metadata": {},
   "outputs": [
    {
     "data": {
      "text/plain": [
       "[0, 4, 2]"
      ]
     },
     "execution_count": 24,
     "metadata": {},
     "output_type": "execute_result"
    }
   ],
   "source": [
    "nx.astar_path(G, 0, 2)"
   ]
  },
  {
   "cell_type": "code",
   "execution_count": 25,
   "metadata": {},
   "outputs": [
    {
     "data": {
      "text/plain": [
       "19"
      ]
     },
     "execution_count": 25,
     "metadata": {},
     "output_type": "execute_result"
    }
   ],
   "source": [
    "nx.astar_path_length(G, 0, 2)"
   ]
  },
  {
   "cell_type": "code",
   "execution_count": 29,
   "metadata": {},
   "outputs": [
    {
     "data": {
      "text/plain": [
       "16"
      ]
     },
     "execution_count": 29,
     "metadata": {},
     "output_type": "execute_result"
    }
   ],
   "source": [
    "nx.astar_path_length(G, 0, 3)"
   ]
  },
  {
   "cell_type": "code",
   "execution_count": 30,
   "metadata": {},
   "outputs": [
    {
     "data": {
      "text/plain": [
       "25"
      ]
     },
     "execution_count": 30,
     "metadata": {},
     "output_type": "execute_result"
    }
   ],
   "source": [
    "nx.astar_path_length(G, 1, 2)"
   ]
  },
  {
   "cell_type": "code",
   "execution_count": 32,
   "metadata": {},
   "outputs": [
    {
     "data": {
      "text/plain": [
       "17"
      ]
     },
     "execution_count": 32,
     "metadata": {},
     "output_type": "execute_result"
    }
   ],
   "source": [
    "nx.astar_path_length(G, 2, 3)"
   ]
  },
  {
   "cell_type": "code",
   "execution_count": 33,
   "metadata": {},
   "outputs": [
    {
     "data": {
      "text/plain": [
       "[(4, 0),\n",
       " (3, 4),\n",
       " (4, 3),\n",
       " (3, 1),\n",
       " (0, 2),\n",
       " (1, 0),\n",
       " (1, 3),\n",
       " (4, 2),\n",
       " (3, 0),\n",
       " (0, 1),\n",
       " (2, 4),\n",
       " (1, 2),\n",
       " (0, 4),\n",
       " (2, 1),\n",
       " (3, 2),\n",
       " (4, 1),\n",
       " (0, 3),\n",
       " (2, 0),\n",
       " (1, 4),\n",
       " (2, 3)]"
      ]
     },
     "execution_count": 33,
     "metadata": {},
     "output_type": "execute_result"
    }
   ],
   "source": [
    "all_paths"
   ]
  },
  {
   "cell_type": "code",
   "execution_count": 73,
   "metadata": {},
   "outputs": [
    {
     "data": {
      "text/plain": [
       "[(0, 1), (0, 4), (1, 3), (4, 2), (4, 3)]"
      ]
     },
     "execution_count": 73,
     "metadata": {},
     "output_type": "execute_result"
    }
   ],
   "source": [
    "direct_connections = list(G.edges())\n",
    "direct_connections"
   ]
  },
  {
   "cell_type": "code",
   "execution_count": 74,
   "metadata": {},
   "outputs": [
    {
     "data": {
      "text/plain": [
       "[(0, 2), (0, 3), (1, 2), (1, 4), (2, 3)]"
      ]
     },
     "execution_count": 74,
     "metadata": {},
     "output_type": "execute_result"
    }
   ],
   "source": [
    "\n",
    "non_edges"
   ]
  },
  {
   "cell_type": "code",
   "execution_count": 80,
   "metadata": {},
   "outputs": [
    {
     "data": {
      "text/plain": [
       "{(0, 2), (0, 3), (1, 2), (1, 4), (2, 3)}"
      ]
     },
     "execution_count": 80,
     "metadata": {},
     "output_type": "execute_result"
    }
   ],
   "source": [
    "set(set(nx.non_edges(G)))"
   ]
  },
  {
   "cell_type": "code",
   "execution_count": 151,
   "metadata": {},
   "outputs": [],
   "source": [
    "def get_indirect_benefit(city_map, source, destination):\n",
    "    indirect_benefits = set()\n",
    "    \n",
    "    if not city_map.has_edge(source, destination):\n",
    "        indirect_benefits.add((source, destination))\n",
    "        indirect_benefits.add((destination, source))\n",
    "        print(\"We are here!\")\n",
    "        print(f\"New Set: {indirect_benefits}\")\n",
    "    \n",
    "        \n",
    "    return indirect_benefits"
   ]
  },
  {
   "cell_type": "code",
   "execution_count": 130,
   "metadata": {},
   "outputs": [
    {
     "data": {
      "text/plain": [
       "{1, 4}"
      ]
     },
     "execution_count": 130,
     "metadata": {},
     "output_type": "execute_result"
    }
   ],
   "source": [
    "ny_neighbors"
   ]
  },
  {
   "cell_type": "code",
   "execution_count": 131,
   "metadata": {},
   "outputs": [],
   "source": [
    "x = 0\n",
    "y = 2"
   ]
  },
  {
   "cell_type": "code",
   "execution_count": 132,
   "metadata": {},
   "outputs": [],
   "source": [
    "nx_neighbors = set(G.neighbors(y))\n",
    "ny_neighbors = set(G.neighbors(x))"
   ]
  },
  {
   "cell_type": "code",
   "execution_count": 133,
   "metadata": {},
   "outputs": [
    {
     "name": "stdout",
     "output_type": "stream",
     "text": [
      "4\n"
     ]
    }
   ],
   "source": [
    "for nx_neighbor in nx_neighbors:\n",
    "    print(nx_neighbor)"
   ]
  },
  {
   "cell_type": "code",
   "execution_count": 147,
   "metadata": {},
   "outputs": [
    {
     "data": {
      "text/plain": [
       "set()"
      ]
     },
     "execution_count": 147,
     "metadata": {},
     "output_type": "execute_result"
    }
   ],
   "source": [
    "nx_indirect_benefits = set()\n",
    "\n",
    "for nx_neighbor in nx_neighbors:\n",
    "    \n",
    "    nx_indirect_benefits.union(get_indirect_benefit(G, x, nx_neighbor))\n",
    "\n",
    "nx_indirect_benefits"
   ]
  },
  {
   "cell_type": "code",
   "execution_count": 155,
   "metadata": {},
   "outputs": [
    {
     "name": "stdout",
     "output_type": "stream",
     "text": [
      "We are here!\n",
      "New Set: {(1, 2), (2, 1)}\n"
     ]
    },
    {
     "data": {
      "text/plain": [
       "{(1, 2), (2, 1)}"
      ]
     },
     "execution_count": 155,
     "metadata": {},
     "output_type": "execute_result"
    }
   ],
   "source": [
    "ny_indirect_benefits = set()\n",
    "\n",
    "for ny_neighbor in ny_neighbors:\n",
    "    ny_indirect_benefits = ny_indirect_benefits.union(get_indirect_benefit(G, y, ny_neighbor))\n",
    "\n",
    "ny_indirect_benefits"
   ]
  },
  {
   "cell_type": "code",
   "execution_count": 109,
   "metadata": {},
   "outputs": [
    {
     "data": {
      "text/plain": [
       "False"
      ]
     },
     "execution_count": 109,
     "metadata": {},
     "output_type": "execute_result"
    }
   ],
   "source": [
    "not nx.has_path(G, 2, 1)"
   ]
  },
  {
   "cell_type": "code",
   "execution_count": 140,
   "metadata": {},
   "outputs": [
    {
     "data": {
      "text/plain": [
       "2"
      ]
     },
     "execution_count": 140,
     "metadata": {},
     "output_type": "execute_result"
    }
   ],
   "source": [
    "y"
   ]
  },
  {
   "cell_type": "code",
   "execution_count": 141,
   "metadata": {},
   "outputs": [
    {
     "data": {
      "text/plain": [
       "{1, 4}"
      ]
     },
     "execution_count": 141,
     "metadata": {},
     "output_type": "execute_result"
    }
   ],
   "source": [
    "ny_neighbors"
   ]
  },
  {
   "cell_type": "code",
   "execution_count": 143,
   "metadata": {},
   "outputs": [
    {
     "data": {
      "text/plain": [
       "False"
      ]
     },
     "execution_count": 143,
     "metadata": {},
     "output_type": "execute_result"
    }
   ],
   "source": [
    "G.has_edge(2, 1)"
   ]
  },
  {
   "cell_type": "code",
   "execution_count": 177,
   "metadata": {},
   "outputs": [
    {
     "data": {
      "text/plain": [
       "{'weight': 10}"
      ]
     },
     "execution_count": 177,
     "metadata": {},
     "output_type": "execute_result"
    }
   ],
   "source": [
    "G.get_edge_data(2, 4)"
   ]
  },
  {
   "cell_type": "code",
   "execution_count": null,
   "metadata": {},
   "outputs": [],
   "source": []
  }
 ],
 "metadata": {
  "colab": {
   "provenance": []
  },
  "kernelspec": {
   "display_name": "Python 3 (ipykernel)",
   "language": "python",
   "name": "python3"
  },
  "language_info": {
   "codemirror_mode": {
    "name": "ipython",
    "version": 3
   },
   "file_extension": ".py",
   "mimetype": "text/x-python",
   "name": "python",
   "nbconvert_exporter": "python",
   "pygments_lexer": "ipython3",
   "version": "3.9.5"
  }
 },
 "nbformat": 4,
 "nbformat_minor": 4
}
