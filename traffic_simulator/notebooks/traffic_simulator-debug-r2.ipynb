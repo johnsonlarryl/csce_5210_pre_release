{
 "cells": [
  {
   "cell_type": "code",
   "execution_count": 1,
   "id": "234c5493-66ba-4c8c-a452-7c3cd203e736",
   "metadata": {},
   "outputs": [
    {
     "name": "stderr",
     "output_type": "stream",
     "text": [
      "/var/folders/3n/7kvkbqjd0l9grdj7kptkcfgr0000gn/T/ipykernel_11054/2474978882.py:2: DeprecationWarning: \n",
      "Pyarrow will become a required dependency of pandas in the next major release of pandas (pandas 3.0),\n",
      "(to allow more performant data types, such as the Arrow string type, and better interoperability with other libraries)\n",
      "but was not found to be installed on your system.\n",
      "If this would cause problems for you,\n",
      "please provide us feedback at https://github.com/pandas-dev/pandas/issues/54466\n",
      "        \n",
      "  from pandas import DataFrame\n"
     ]
    }
   ],
   "source": [
    "from datetime import datetime, timedelta\n",
    "from pandas import DataFrame\n",
    "import matplotlib.pyplot as plt\n",
    "import networkx as nx\n",
    "from networkx import Graph\n",
    "from networkx.drawing.nx_agraph import write_dot, graphviz_layout\n",
    "from networkx.readwrite import json_graph\n",
    "import os\n",
    "from random import randint\n",
    "import sys\n",
    "from typing import Tuple"
   ]
  },
  {
   "cell_type": "code",
   "execution_count": 2,
   "id": "06f88626-c7e5-41e6-9920-07a5f5c58de8",
   "metadata": {},
   "outputs": [],
   "source": [
    "sys.path.append(\"../\")\n",
    "tests_dir = os.path.abspath(\"../tests\")\n",
    "sys.path.append(tests_dir)"
   ]
  },
  {
   "cell_type": "code",
   "execution_count": 3,
   "id": "316a63de-5c43-488c-952a-c9fc8ee26f49",
   "metadata": {},
   "outputs": [],
   "source": [
    "from traffic_simulator.city_map import CityMap\n",
    "from traffic_simulator.model import TimeDeltaDiff\n",
    "from traffic_simulator.traffic_analysis import TrafficAnalyzer\n",
    "from traffic_simulator.traffic_simulation import Simulator\n",
    "from conftest import generate_static_city_map, generate_static_trips"
   ]
  },
  {
   "cell_type": "markdown",
   "id": "f8ff2644-3f5f-49c4-a658-cfc35037d621",
   "metadata": {},
   "source": [
    "##### Generate City Map"
   ]
  },
  {
   "cell_type": "code",
   "execution_count": 4,
   "id": "e1ef9ca8-4b26-4669-ad76-17fba5a157c5",
   "metadata": {},
   "outputs": [
    {
     "data": {
      "text/plain": [
       "<networkx.classes.graph.Graph at 0x1569cc4c0>"
      ]
     },
     "execution_count": 4,
     "metadata": {},
     "output_type": "execute_result"
    }
   ],
   "source": [
    "r2_city_map = generate_static_city_map()\n",
    "r2_city_map"
   ]
  },
  {
   "cell_type": "code",
   "execution_count": 5,
   "id": "98818599-406c-4771-9bd5-08f7e1088e52",
   "metadata": {},
   "outputs": [
    {
     "name": "stdout",
     "output_type": "stream",
     "text": [
      "node degree and node clustering\n",
      "0 2 0\n",
      "1 2 0\n",
      "4 3 0\n",
      "3 2 0\n",
      "2 1 0\n",
      "\n",
      "the adjacency list\n",
      "0 1 4\n",
      "1 3\n",
      "4 2 3\n",
      "3\n",
      "2\n"
     ]
    }
   ],
   "source": [
    "CityMap.get_city_map_statistics(r2_city_map)"
   ]
  },
  {
   "cell_type": "code",
   "execution_count": 6,
   "id": "3167fbcf-7e25-4f31-947a-969cc9b59ccd",
   "metadata": {},
   "outputs": [
    {
     "name": "stdout",
     "output_type": "stream",
     "text": [
      "{(0, 1): 6, (0, 4): 9, (1, 3): 11, (4, 2): 10, (4, 3): 7}\n"
     ]
    },
    {
     "data": {
      "image/png": "[encoded data removed]",
      "text/plain": [
       "<Figure size 640x480 with 1 Axes>"
      ]
     },
     "metadata": {},
     "output_type": "display_data"
    }
   ],
   "source": [
    "CityMap.visualize_city_map(r2_city_map)"
   ]
  },
  {
   "cell_type": "markdown",
   "id": "725775ec-6328-4209-a253-5a6140622c15",
   "metadata": {},
   "source": [
    "# Generate Static Trips"
   ]
  },
  {
   "cell_type": "code",
   "execution_count": 7,
   "id": "96a26ddb-aa13-4da8-88c3-0ec179b962fb",
   "metadata": {},
   "outputs": [
    {
     "data": {
      "text/plain": [
       "20"
      ]
     },
     "execution_count": 7,
     "metadata": {},
     "output_type": "execute_result"
    }
   ],
   "source": [
    "r2_trips = generate_static_trips()\n",
    "len(r2_trips)"
   ]
  },
  {
   "cell_type": "code",
   "execution_count": 8,
   "id": "ef08cde6-eed9-4849-b4f7-d58601bf5fa0",
   "metadata": {},
   "outputs": [
    {
     "data": {
      "text/plain": [
       "{Trip(source=0, destination=2, numer_of_trips=1): Trip(source=0, destination=2, numer_of_trips=1),\n",
       " Trip(source=2, destination=0, numer_of_trips=1): Trip(source=2, destination=0, numer_of_trips=1),\n",
       " Trip(source=0, destination=3, numer_of_trips=1): Trip(source=0, destination=3, numer_of_trips=1),\n",
       " Trip(source=3, destination=0, numer_of_trips=1): Trip(source=3, destination=0, numer_of_trips=1),\n",
       " Trip(source=1, destination=2, numer_of_trips=1): Trip(source=1, destination=2, numer_of_trips=1),\n",
       " Trip(source=2, destination=1, numer_of_trips=2): Trip(source=2, destination=1, numer_of_trips=2),\n",
       " Trip(source=1, destination=4, numer_of_trips=1): Trip(source=1, destination=4, numer_of_trips=1),\n",
       " Trip(source=4, destination=1, numer_of_trips=2): Trip(source=4, destination=1, numer_of_trips=2),\n",
       " Trip(source=2, destination=3, numer_of_trips=3): Trip(source=2, destination=3, numer_of_trips=3),\n",
       " Trip(source=3, destination=2, numer_of_trips=1): Trip(source=3, destination=2, numer_of_trips=1),\n",
       " Trip(source=4, destination=0, numer_of_trips=0): Trip(source=4, destination=0, numer_of_trips=0),\n",
       " Trip(source=3, destination=4, numer_of_trips=0): Trip(source=3, destination=4, numer_of_trips=0),\n",
       " Trip(source=4, destination=3, numer_of_trips=0): Trip(source=4, destination=3, numer_of_trips=0),\n",
       " Trip(source=3, destination=1, numer_of_trips=0): Trip(source=3, destination=1, numer_of_trips=0),\n",
       " Trip(source=1, destination=0, numer_of_trips=0): Trip(source=1, destination=0, numer_of_trips=0),\n",
       " Trip(source=1, destination=3, numer_of_trips=0): Trip(source=1, destination=3, numer_of_trips=0),\n",
       " Trip(source=4, destination=2, numer_of_trips=0): Trip(source=4, destination=2, numer_of_trips=0),\n",
       " Trip(source=0, destination=1, numer_of_trips=0): Trip(source=0, destination=1, numer_of_trips=0),\n",
       " Trip(source=2, destination=4, numer_of_trips=0): Trip(source=2, destination=4, numer_of_trips=0),\n",
       " Trip(source=0, destination=4, numer_of_trips=0): Trip(source=0, destination=4, numer_of_trips=0)}"
      ]
     },
     "execution_count": 8,
     "metadata": {},
     "output_type": "execute_result"
    }
   ],
   "source": [
    "r2_trips"
   ]
  },
  {
   "cell_type": "markdown",
   "id": "73791ccd-6f65-4cf8-9264-4e3e746afe0a",
   "metadata": {},
   "source": [
    "# R2"
   ]
  },
  {
   "cell_type": "markdown",
   "id": "afc44cb6-dbf6-4376-bb21-f38bf4c9e6fb",
   "metadata": {},
   "source": [
    "#### The benefit values of constructing the following new roads:\n",
    "#### (0,2), (0,3), (1,2), (1,4), (2,3)\n",
    "#### Use a k value (budget) of 2, which two of the above roads would you recommend for construction? Remember that once the first road is \n",
    "#### constructed, benefits that you initially computed for the other 4 will now change and these will need to be recomputed."
   ]
  },
  {
   "cell_type": "markdown",
   "id": "f69e3122-b883-47e3-8509-1c25fc90d9eb",
   "metadata": {},
   "source": [
    "##### Generate Benefit Matrix k = 0 # Initial Benefit Matrix"
   ]
  },
  {
   "cell_type": "code",
   "execution_count": 9,
   "id": "76c4471f-9301-48af-8ef0-d1cd71ad5e48",
   "metadata": {},
   "outputs": [],
   "source": [
    "def get_max_benefit_road_segment(max_benefit_matrix: DataFrame) -> Tuple[int, int]:\n",
    "    max_benefit = max_benefit_matrix.iloc[0].values\n",
    "    source = int(max_benefit[0])\n",
    "    destination = int(max_benefit[1])\n",
    "    \n",
    "    return source, destination"
   ]
  },
  {
   "cell_type": "code",
   "execution_count": 10,
   "id": "a2ca0235-9e10-428b-96c6-2c1941ad8ccd",
   "metadata": {},
   "outputs": [],
   "source": [
    "r2_benefit_matrix, n1, n2, n1_n2_truth_table_data = TrafficAnalyzer.get_road_recommendations(r2_city_map, r2_trips,debug=True)"
   ]
  },
  {
   "cell_type": "code",
   "execution_count": 11,
   "id": "6cbd6ef3-caf0-4d97-ba17-113eadc15581",
   "metadata": {},
   "outputs": [
    {
     "data": {
      "text/html": [
       "<div>\n",
       "<style scoped>\n",
       "    .dataframe tbody tr th:only-of-type {\n",
       "        vertical-align: middle;\n",
       "    }\n",
       "\n",
       "    .dataframe tbody tr th {\n",
       "        vertical-align: top;\n",
       "    }\n",
       "\n",
       "    .dataframe thead th {\n",
       "        text-align: right;\n",
       "    }\n",
       "</style>\n",
       "<table border=\"1\" class=\"dataframe\">\n",
       "  <thead>\n",
       "    <tr style=\"text-align: right;\">\n",
       "      <th></th>\n",
       "      <th>source</th>\n",
       "      <th>destination</th>\n",
       "      <th>benefit</th>\n",
       "    </tr>\n",
       "  </thead>\n",
       "  <tbody>\n",
       "    <tr>\n",
       "      <th>3</th>\n",
       "      <td>2</td>\n",
       "      <td>3</td>\n",
       "      <td>38.6</td>\n",
       "    </tr>\n",
       "    <tr>\n",
       "      <th>4</th>\n",
       "      <td>0</td>\n",
       "      <td>2</td>\n",
       "      <td>38.0</td>\n",
       "    </tr>\n",
       "    <tr>\n",
       "      <th>2</th>\n",
       "      <td>1</td>\n",
       "      <td>4</td>\n",
       "      <td>36.0</td>\n",
       "    </tr>\n",
       "    <tr>\n",
       "      <th>0</th>\n",
       "      <td>1</td>\n",
       "      <td>2</td>\n",
       "      <td>30.0</td>\n",
       "    </tr>\n",
       "    <tr>\n",
       "      <th>1</th>\n",
       "      <td>0</td>\n",
       "      <td>3</td>\n",
       "      <td>12.8</td>\n",
       "    </tr>\n",
       "  </tbody>\n",
       "</table>\n",
       "</div>"
      ],
      "text/plain": [
       "   source  destination  benefit\n",
       "3       2            3     38.6\n",
       "4       0            2     38.0\n",
       "2       1            4     36.0\n",
       "0       1            2     30.0\n",
       "1       0            3     12.8"
      ]
     },
     "execution_count": 11,
     "metadata": {},
     "output_type": "execute_result"
    }
   ],
   "source": [
    "r2_benefit_matrix"
   ]
  },
  {
   "cell_type": "code",
   "execution_count": 12,
   "id": "7ecc53ee-e9a4-4bde-ba9d-6c2097ae8ca4",
   "metadata": {},
   "outputs": [
    {
     "data": {
      "text/plain": [
       "{4}"
      ]
     },
     "execution_count": 12,
     "metadata": {},
     "output_type": "execute_result"
    }
   ],
   "source": [
    " n1"
   ]
  },
  {
   "cell_type": "code",
   "execution_count": 13,
   "id": "e41285b4-fd05-4762-bee4-f60179b0b18b",
   "metadata": {},
   "outputs": [
    {
     "data": {
      "text/plain": [
       "{1, 4}"
      ]
     },
     "execution_count": 13,
     "metadata": {},
     "output_type": "execute_result"
    }
   ],
   "source": [
    "n2"
   ]
  },
  {
   "cell_type": "code",
   "execution_count": 15,
   "id": "b9cee7f0-a545-44c8-8f26-8d05e3dd1d18",
   "metadata": {},
   "outputs": [
    {
     "data": {
      "text/html": [
       "<div>\n",
       "<style scoped>\n",
       "    .dataframe tbody tr th:only-of-type {\n",
       "        vertical-align: middle;\n",
       "    }\n",
       "\n",
       "    .dataframe tbody tr th {\n",
       "        vertical-align: top;\n",
       "    }\n",
       "\n",
       "    .dataframe thead th {\n",
       "        text-align: right;\n",
       "    }\n",
       "</style>\n",
       "<table border=\"1\" class=\"dataframe\">\n",
       "  <thead>\n",
       "    <tr style=\"text-align: right;\">\n",
       "      <th></th>\n",
       "      <th>x</th>\n",
       "      <th>y</th>\n",
       "      <th>nx_indirect_benefits</th>\n",
       "      <th>ny_indirect_benefits</th>\n",
       "      <th>nx_neighbor</th>\n",
       "      <th>ny_neighbor</th>\n",
       "      <th>indirect_x</th>\n",
       "      <th>indirect_y</th>\n",
       "      <th>has_edge_indirect_x_y</th>\n",
       "      <th>has_edge_nx_neighbor_indirect_y</th>\n",
       "      <th>has_edge_indirect_x_x</th>\n",
       "      <th>has_edge_ny_neighbor_indirect_y</th>\n",
       "    </tr>\n",
       "  </thead>\n",
       "  <tbody>\n",
       "    <tr>\n",
       "      <th>0</th>\n",
       "      <td>1</td>\n",
       "      <td>2</td>\n",
       "      <td>4</td>\n",
       "      <td>-1</td>\n",
       "      <td>4</td>\n",
       "      <td>1</td>\n",
       "      <td>T</td>\n",
       "      <td>F</td>\n",
       "      <td>F</td>\n",
       "      <td>F</td>\n",
       "      <td>None</td>\n",
       "      <td>None</td>\n",
       "    </tr>\n",
       "    <tr>\n",
       "      <th>1</th>\n",
       "      <td>1</td>\n",
       "      <td>2</td>\n",
       "      <td>4</td>\n",
       "      <td>-1</td>\n",
       "      <td>1</td>\n",
       "      <td>4</td>\n",
       "      <td>F</td>\n",
       "      <td>F</td>\n",
       "      <td>F</td>\n",
       "      <td>F</td>\n",
       "      <td>None</td>\n",
       "      <td>None</td>\n",
       "    </tr>\n",
       "    <tr>\n",
       "      <th>2</th>\n",
       "      <td>1</td>\n",
       "      <td>2</td>\n",
       "      <td>{}</td>\n",
       "      <td>{(0, 2), (2, 0)}</td>\n",
       "      <td>-1</td>\n",
       "      <td>0</td>\n",
       "      <td>0</td>\n",
       "      <td>2</td>\n",
       "      <td>F</td>\n",
       "      <td>F</td>\n",
       "      <td>T</td>\n",
       "      <td>F</td>\n",
       "    </tr>\n",
       "    <tr>\n",
       "      <th>3</th>\n",
       "      <td>1</td>\n",
       "      <td>2</td>\n",
       "      <td>{}</td>\n",
       "      <td>{(0, 2), (2, 0)}</td>\n",
       "      <td>-1</td>\n",
       "      <td>0</td>\n",
       "      <td>2</td>\n",
       "      <td>0</td>\n",
       "      <td>F</td>\n",
       "      <td>F</td>\n",
       "      <td>F</td>\n",
       "      <td>F</td>\n",
       "    </tr>\n",
       "    <tr>\n",
       "      <th>4</th>\n",
       "      <td>1</td>\n",
       "      <td>2</td>\n",
       "      <td>{}</td>\n",
       "      <td>{(2, 3), (0, 2), (2, 0), (3, 2)}</td>\n",
       "      <td>-1</td>\n",
       "      <td>3</td>\n",
       "      <td>2</td>\n",
       "      <td>3</td>\n",
       "      <td>F</td>\n",
       "      <td>F</td>\n",
       "      <td>F</td>\n",
       "      <td>F</td>\n",
       "    </tr>\n",
       "    <tr>\n",
       "      <th>5</th>\n",
       "      <td>1</td>\n",
       "      <td>2</td>\n",
       "      <td>{}</td>\n",
       "      <td>{(2, 3), (0, 2), (2, 0), (3, 2)}</td>\n",
       "      <td>-1</td>\n",
       "      <td>3</td>\n",
       "      <td>0</td>\n",
       "      <td>2</td>\n",
       "      <td>F</td>\n",
       "      <td>F</td>\n",
       "      <td>T</td>\n",
       "      <td>F</td>\n",
       "    </tr>\n",
       "    <tr>\n",
       "      <th>6</th>\n",
       "      <td>1</td>\n",
       "      <td>2</td>\n",
       "      <td>{}</td>\n",
       "      <td>{(2, 3), (0, 2), (2, 0), (3, 2)}</td>\n",
       "      <td>-1</td>\n",
       "      <td>3</td>\n",
       "      <td>2</td>\n",
       "      <td>0</td>\n",
       "      <td>F</td>\n",
       "      <td>F</td>\n",
       "      <td>F</td>\n",
       "      <td>F</td>\n",
       "    </tr>\n",
       "    <tr>\n",
       "      <th>7</th>\n",
       "      <td>1</td>\n",
       "      <td>2</td>\n",
       "      <td>{}</td>\n",
       "      <td>{(2, 3), (0, 2), (2, 0), (3, 2)}</td>\n",
       "      <td>-1</td>\n",
       "      <td>3</td>\n",
       "      <td>3</td>\n",
       "      <td>2</td>\n",
       "      <td>F</td>\n",
       "      <td>F</td>\n",
       "      <td>T</td>\n",
       "      <td>F</td>\n",
       "    </tr>\n",
       "    <tr>\n",
       "      <th>8</th>\n",
       "      <td>1</td>\n",
       "      <td>2</td>\n",
       "      <td>-1</td>\n",
       "      <td>-1</td>\n",
       "      <td>-1</td>\n",
       "      <td>-1</td>\n",
       "      <td>F</td>\n",
       "      <td>F</td>\n",
       "      <td>F</td>\n",
       "      <td>F</td>\n",
       "      <td>None</td>\n",
       "      <td>None</td>\n",
       "    </tr>\n",
       "    <tr>\n",
       "      <th>9</th>\n",
       "      <td>0</td>\n",
       "      <td>3</td>\n",
       "      <td>-1</td>\n",
       "      <td>-1</td>\n",
       "      <td>-1</td>\n",
       "      <td>-1</td>\n",
       "      <td>F</td>\n",
       "      <td>F</td>\n",
       "      <td>F</td>\n",
       "      <td>F</td>\n",
       "      <td>None</td>\n",
       "      <td>None</td>\n",
       "    </tr>\n",
       "    <tr>\n",
       "      <th>10</th>\n",
       "      <td>1</td>\n",
       "      <td>4</td>\n",
       "      <td>2</td>\n",
       "      <td>-1</td>\n",
       "      <td>1</td>\n",
       "      <td>2</td>\n",
       "      <td>F</td>\n",
       "      <td>F</td>\n",
       "      <td>F</td>\n",
       "      <td>F</td>\n",
       "      <td>None</td>\n",
       "      <td>None</td>\n",
       "    </tr>\n",
       "    <tr>\n",
       "      <th>11</th>\n",
       "      <td>1</td>\n",
       "      <td>4</td>\n",
       "      <td>2</td>\n",
       "      <td>-1</td>\n",
       "      <td>2</td>\n",
       "      <td>1</td>\n",
       "      <td>T</td>\n",
       "      <td>F</td>\n",
       "      <td>F</td>\n",
       "      <td>F</td>\n",
       "      <td>None</td>\n",
       "      <td>None</td>\n",
       "    </tr>\n",
       "    <tr>\n",
       "      <th>12</th>\n",
       "      <td>1</td>\n",
       "      <td>4</td>\n",
       "      <td>3</td>\n",
       "      <td>-1</td>\n",
       "      <td>1</td>\n",
       "      <td>2</td>\n",
       "      <td>F</td>\n",
       "      <td>F</td>\n",
       "      <td>F</td>\n",
       "      <td>F</td>\n",
       "      <td>None</td>\n",
       "      <td>None</td>\n",
       "    </tr>\n",
       "    <tr>\n",
       "      <th>13</th>\n",
       "      <td>1</td>\n",
       "      <td>4</td>\n",
       "      <td>3</td>\n",
       "      <td>-1</td>\n",
       "      <td>2</td>\n",
       "      <td>1</td>\n",
       "      <td>T</td>\n",
       "      <td>T</td>\n",
       "      <td>F</td>\n",
       "      <td>F</td>\n",
       "      <td>None</td>\n",
       "      <td>None</td>\n",
       "    </tr>\n",
       "    <tr>\n",
       "      <th>14</th>\n",
       "      <td>2</td>\n",
       "      <td>3</td>\n",
       "      <td>1</td>\n",
       "      <td>-1</td>\n",
       "      <td>1</td>\n",
       "      <td>2</td>\n",
       "      <td>T</td>\n",
       "      <td>F</td>\n",
       "      <td>F</td>\n",
       "      <td>F</td>\n",
       "      <td>None</td>\n",
       "      <td>None</td>\n",
       "    </tr>\n",
       "    <tr>\n",
       "      <th>15</th>\n",
       "      <td>2</td>\n",
       "      <td>3</td>\n",
       "      <td>1</td>\n",
       "      <td>-1</td>\n",
       "      <td>2</td>\n",
       "      <td>1</td>\n",
       "      <td>F</td>\n",
       "      <td>F</td>\n",
       "      <td>F</td>\n",
       "      <td>F</td>\n",
       "      <td>None</td>\n",
       "      <td>None</td>\n",
       "    </tr>\n",
       "    <tr>\n",
       "      <th>16</th>\n",
       "      <td>2</td>\n",
       "      <td>3</td>\n",
       "      <td>4</td>\n",
       "      <td>-1</td>\n",
       "      <td>1</td>\n",
       "      <td>2</td>\n",
       "      <td>T</td>\n",
       "      <td>T</td>\n",
       "      <td>F</td>\n",
       "      <td>F</td>\n",
       "      <td>None</td>\n",
       "      <td>None</td>\n",
       "    </tr>\n",
       "    <tr>\n",
       "      <th>17</th>\n",
       "      <td>2</td>\n",
       "      <td>3</td>\n",
       "      <td>4</td>\n",
       "      <td>-1</td>\n",
       "      <td>2</td>\n",
       "      <td>1</td>\n",
       "      <td>F</td>\n",
       "      <td>F</td>\n",
       "      <td>F</td>\n",
       "      <td>F</td>\n",
       "      <td>None</td>\n",
       "      <td>None</td>\n",
       "    </tr>\n",
       "    <tr>\n",
       "      <th>18</th>\n",
       "      <td>0</td>\n",
       "      <td>2</td>\n",
       "      <td>{}</td>\n",
       "      <td>{(1, 2), (2, 1)}</td>\n",
       "      <td>-1</td>\n",
       "      <td>1</td>\n",
       "      <td>1</td>\n",
       "      <td>2</td>\n",
       "      <td>F</td>\n",
       "      <td>F</td>\n",
       "      <td>T</td>\n",
       "      <td>F</td>\n",
       "    </tr>\n",
       "    <tr>\n",
       "      <th>19</th>\n",
       "      <td>0</td>\n",
       "      <td>2</td>\n",
       "      <td>{}</td>\n",
       "      <td>{(1, 2), (2, 1)}</td>\n",
       "      <td>-1</td>\n",
       "      <td>1</td>\n",
       "      <td>2</td>\n",
       "      <td>1</td>\n",
       "      <td>F</td>\n",
       "      <td>F</td>\n",
       "      <td>F</td>\n",
       "      <td>F</td>\n",
       "    </tr>\n",
       "    <tr>\n",
       "      <th>20</th>\n",
       "      <td>0</td>\n",
       "      <td>2</td>\n",
       "      <td>{}</td>\n",
       "      <td>{(1, 2), (2, 1)}</td>\n",
       "      <td>-1</td>\n",
       "      <td>4</td>\n",
       "      <td>1</td>\n",
       "      <td>2</td>\n",
       "      <td>F</td>\n",
       "      <td>F</td>\n",
       "      <td>T</td>\n",
       "      <td>T</td>\n",
       "    </tr>\n",
       "    <tr>\n",
       "      <th>21</th>\n",
       "      <td>0</td>\n",
       "      <td>2</td>\n",
       "      <td>{}</td>\n",
       "      <td>{(1, 2), (2, 1)}</td>\n",
       "      <td>-1</td>\n",
       "      <td>4</td>\n",
       "      <td>2</td>\n",
       "      <td>1</td>\n",
       "      <td>F</td>\n",
       "      <td>F</td>\n",
       "      <td>F</td>\n",
       "      <td>F</td>\n",
       "    </tr>\n",
       "  </tbody>\n",
       "</table>\n",
       "</div>"
      ],
      "text/plain": [
       "    x  y nx_indirect_benefits              ny_indirect_benefits  nx_neighbor  \\\n",
       "0   1  2                    4                                -1            4   \n",
       "1   1  2                    4                                -1            1   \n",
       "2   1  2                   {}                  {(0, 2), (2, 0)}           -1   \n",
       "3   1  2                   {}                  {(0, 2), (2, 0)}           -1   \n",
       "4   1  2                   {}  {(2, 3), (0, 2), (2, 0), (3, 2)}           -1   \n",
       "5   1  2                   {}  {(2, 3), (0, 2), (2, 0), (3, 2)}           -1   \n",
       "6   1  2                   {}  {(2, 3), (0, 2), (2, 0), (3, 2)}           -1   \n",
       "7   1  2                   {}  {(2, 3), (0, 2), (2, 0), (3, 2)}           -1   \n",
       "8   1  2                   -1                                -1           -1   \n",
       "9   0  3                   -1                                -1           -1   \n",
       "10  1  4                    2                                -1            1   \n",
       "11  1  4                    2                                -1            2   \n",
       "12  1  4                    3                                -1            1   \n",
       "13  1  4                    3                                -1            2   \n",
       "14  2  3                    1                                -1            1   \n",
       "15  2  3                    1                                -1            2   \n",
       "16  2  3                    4                                -1            1   \n",
       "17  2  3                    4                                -1            2   \n",
       "18  0  2                   {}                  {(1, 2), (2, 1)}           -1   \n",
       "19  0  2                   {}                  {(1, 2), (2, 1)}           -1   \n",
       "20  0  2                   {}                  {(1, 2), (2, 1)}           -1   \n",
       "21  0  2                   {}                  {(1, 2), (2, 1)}           -1   \n",
       "\n",
       "    ny_neighbor indirect_x indirect_y has_edge_indirect_x_y  \\\n",
       "0             1          T          F                     F   \n",
       "1             4          F          F                     F   \n",
       "2             0          0          2                     F   \n",
       "3             0          2          0                     F   \n",
       "4             3          2          3                     F   \n",
       "5             3          0          2                     F   \n",
       "6             3          2          0                     F   \n",
       "7             3          3          2                     F   \n",
       "8            -1          F          F                     F   \n",
       "9            -1          F          F                     F   \n",
       "10            2          F          F                     F   \n",
       "11            1          T          F                     F   \n",
       "12            2          F          F                     F   \n",
       "13            1          T          T                     F   \n",
       "14            2          T          F                     F   \n",
       "15            1          F          F                     F   \n",
       "16            2          T          T                     F   \n",
       "17            1          F          F                     F   \n",
       "18            1          1          2                     F   \n",
       "19            1          2          1                     F   \n",
       "20            4          1          2                     F   \n",
       "21            4          2          1                     F   \n",
       "\n",
       "   has_edge_nx_neighbor_indirect_y has_edge_indirect_x_x  \\\n",
       "0                                F                  None   \n",
       "1                                F                  None   \n",
       "2                                F                     T   \n",
       "3                                F                     F   \n",
       "4                                F                     F   \n",
       "5                                F                     T   \n",
       "6                                F                     F   \n",
       "7                                F                     T   \n",
       "8                                F                  None   \n",
       "9                                F                  None   \n",
       "10                               F                  None   \n",
       "11                               F                  None   \n",
       "12                               F                  None   \n",
       "13                               F                  None   \n",
       "14                               F                  None   \n",
       "15                               F                  None   \n",
       "16                               F                  None   \n",
       "17                               F                  None   \n",
       "18                               F                     T   \n",
       "19                               F                     F   \n",
       "20                               F                     T   \n",
       "21                               F                     F   \n",
       "\n",
       "   has_edge_ny_neighbor_indirect_y  \n",
       "0                             None  \n",
       "1                             None  \n",
       "2                                F  \n",
       "3                                F  \n",
       "4                                F  \n",
       "5                                F  \n",
       "6                                F  \n",
       "7                                F  \n",
       "8                             None  \n",
       "9                             None  \n",
       "10                            None  \n",
       "11                            None  \n",
       "12                            None  \n",
       "13                            None  \n",
       "14                            None  \n",
       "15                            None  \n",
       "16                            None  \n",
       "17                            None  \n",
       "18                               F  \n",
       "19                               F  \n",
       "20                               T  \n",
       "21                               F  "
      ]
     },
     "execution_count": 15,
     "metadata": {},
     "output_type": "execute_result"
    }
   ],
   "source": [
    "n1_n2_truth_table_data"
   ]
  },
  {
   "cell_type": "code",
   "execution_count": 16,
   "id": "831738e7-c2d9-45d1-b970-5dccab170836",
   "metadata": {},
   "outputs": [],
   "source": [
    "n1_n2_truth_table_data.to_csv(\"n1_n2_truth_table_data.csv\")"
   ]
  },
  {
   "cell_type": "code",
   "execution_count": 15,
   "id": "fb304e54-0a3e-4ea0-99cf-db1e00a2f8c8",
   "metadata": {},
   "outputs": [
    {
     "data": {
      "text/html": [
       "<div>\n",
       "<style scoped>\n",
       "    .dataframe tbody tr th:only-of-type {\n",
       "        vertical-align: middle;\n",
       "    }\n",
       "\n",
       "    .dataframe tbody tr th {\n",
       "        vertical-align: top;\n",
       "    }\n",
       "\n",
       "    .dataframe thead th {\n",
       "        text-align: right;\n",
       "    }\n",
       "</style>\n",
       "<table border=\"1\" class=\"dataframe\">\n",
       "  <thead>\n",
       "    <tr style=\"text-align: right;\">\n",
       "      <th></th>\n",
       "      <th>source</th>\n",
       "      <th>destination</th>\n",
       "      <th>benefit</th>\n",
       "    </tr>\n",
       "  </thead>\n",
       "  <tbody>\n",
       "    <tr>\n",
       "      <th>3</th>\n",
       "      <td>2</td>\n",
       "      <td>3</td>\n",
       "      <td>38.6</td>\n",
       "    </tr>\n",
       "    <tr>\n",
       "      <th>4</th>\n",
       "      <td>0</td>\n",
       "      <td>2</td>\n",
       "      <td>38.0</td>\n",
       "    </tr>\n",
       "    <tr>\n",
       "      <th>2</th>\n",
       "      <td>1</td>\n",
       "      <td>4</td>\n",
       "      <td>36.0</td>\n",
       "    </tr>\n",
       "    <tr>\n",
       "      <th>0</th>\n",
       "      <td>1</td>\n",
       "      <td>2</td>\n",
       "      <td>30.0</td>\n",
       "    </tr>\n",
       "    <tr>\n",
       "      <th>1</th>\n",
       "      <td>0</td>\n",
       "      <td>3</td>\n",
       "      <td>12.8</td>\n",
       "    </tr>\n",
       "  </tbody>\n",
       "</table>\n",
       "</div>"
      ],
      "text/plain": [
       "   source  destination  benefit\n",
       "3       2            3     38.6\n",
       "4       0            2     38.0\n",
       "2       1            4     36.0\n",
       "0       1            2     30.0\n",
       "1       0            3     12.8"
      ]
     },
     "execution_count": 15,
     "metadata": {},
     "output_type": "execute_result"
    }
   ],
   "source": [
    "r2_benefit_matrix = TrafficAnalyzer.get_road_recommendations(r2_city_map, r2_trips)\n",
    "r2_benefit_matrix"
   ]
  },
  {
   "cell_type": "code",
   "execution_count": 238,
   "id": "7b6e68dc-dd71-436f-964a-8488275be309",
   "metadata": {},
   "outputs": [
    {
     "data": {
      "text/html": [
       "<div>\n",
       "<style scoped>\n",
       "    .dataframe tbody tr th:only-of-type {\n",
       "        vertical-align: middle;\n",
       "    }\n",
       "\n",
       "    .dataframe tbody tr th {\n",
       "        vertical-align: top;\n",
       "    }\n",
       "\n",
       "    .dataframe thead th {\n",
       "        text-align: right;\n",
       "    }\n",
       "</style>\n",
       "<table border=\"1\" class=\"dataframe\">\n",
       "  <thead>\n",
       "    <tr style=\"text-align: right;\">\n",
       "      <th></th>\n",
       "      <th>source</th>\n",
       "      <th>destination</th>\n",
       "      <th>benefit</th>\n",
       "    </tr>\n",
       "  </thead>\n",
       "  <tbody>\n",
       "    <tr>\n",
       "      <th>3</th>\n",
       "      <td>2</td>\n",
       "      <td>3</td>\n",
       "      <td>38.6</td>\n",
       "    </tr>\n",
       "  </tbody>\n",
       "</table>\n",
       "</div>"
      ],
      "text/plain": [
       "   source  destination  benefit\n",
       "3       2            3     38.6"
      ]
     },
     "execution_count": 238,
     "metadata": {},
     "output_type": "execute_result"
    }
   ],
   "source": [
    "##### k = 1 # Recommended road to build first is the road segment (2,3)\n",
    "r2_max_benefit_matrix = TrafficAnalyzer.get_max_road_benefit(r2_benefit_matrix)\n",
    "r2_max_benefit_matrix"
   ]
  },
  {
   "cell_type": "code",
   "execution_count": 239,
   "id": "6e494233-33c9-4aa9-8b38-86abb43825d0",
   "metadata": {},
   "outputs": [
    {
     "name": "stdout",
     "output_type": "stream",
     "text": [
      "(2, 3)\n"
     ]
    }
   ],
   "source": [
    "source, destination = get_max_benefit_road_segment(r2_max_benefit_matrix)\n",
    "print(f\"({source}, {destination})\")"
   ]
  },
  {
   "cell_type": "code",
   "execution_count": 240,
   "id": "96e04ece-20ac-40d7-8db4-ce9339d80525",
   "metadata": {},
   "outputs": [
    {
     "name": "stdout",
     "output_type": "stream",
     "text": [
      "{(0, 1): 6, (0, 4): 9, (1, 3): 11, (4, 2): 10, (4, 3): 7, (3, 2): 10.2}\n"
     ]
    },
    {
     "data": {
      "image/png": "[encoded data removed]",
      "text/plain": [
       "<Figure size 640x480 with 1 Axes>"
      ]
     },
     "metadata": {},
     "output_type": "display_data"
    }
   ],
   "source": [
    "CityMap.add_road_segment(r2_city_map, source, destination)\n",
    "CityMap.visualize_city_map(r2_city_map)"
   ]
  },
  {
   "cell_type": "code",
   "execution_count": 241,
   "id": "571d619c-1001-43ec-a745-0650974454fe",
   "metadata": {},
   "outputs": [
    {
     "data": {
      "text/html": [
       "<div>\n",
       "<style scoped>\n",
       "    .dataframe tbody tr th:only-of-type {\n",
       "        vertical-align: middle;\n",
       "    }\n",
       "\n",
       "    .dataframe tbody tr th {\n",
       "        vertical-align: top;\n",
       "    }\n",
       "\n",
       "    .dataframe thead th {\n",
       "        text-align: right;\n",
       "    }\n",
       "</style>\n",
       "<table border=\"1\" class=\"dataframe\">\n",
       "  <thead>\n",
       "    <tr style=\"text-align: right;\">\n",
       "      <th></th>\n",
       "      <th>source</th>\n",
       "      <th>destination</th>\n",
       "      <th>benefit</th>\n",
       "    </tr>\n",
       "  </thead>\n",
       "  <tbody>\n",
       "    <tr>\n",
       "      <th>1</th>\n",
       "      <td>0</td>\n",
       "      <td>2</td>\n",
       "      <td>26.6</td>\n",
       "    </tr>\n",
       "    <tr>\n",
       "      <th>0</th>\n",
       "      <td>1</td>\n",
       "      <td>2</td>\n",
       "      <td>26.0</td>\n",
       "    </tr>\n",
       "    <tr>\n",
       "      <th>3</th>\n",
       "      <td>1</td>\n",
       "      <td>4</td>\n",
       "      <td>24.6</td>\n",
       "    </tr>\n",
       "    <tr>\n",
       "      <th>2</th>\n",
       "      <td>0</td>\n",
       "      <td>3</td>\n",
       "      <td>12.8</td>\n",
       "    </tr>\n",
       "  </tbody>\n",
       "</table>\n",
       "</div>"
      ],
      "text/plain": [
       "   source  destination  benefit\n",
       "1       0            2     26.6\n",
       "0       1            2     26.0\n",
       "3       1            4     24.6\n",
       "2       0            3     12.8"
      ]
     },
     "execution_count": 241,
     "metadata": {},
     "output_type": "execute_result"
    }
   ],
   "source": [
    "r2_benefit_matrix = TrafficAnalyzer.get_road_recommendations(r2_city_map, r2_trips)\n",
    "r2_benefit_matrix"
   ]
  },
  {
   "cell_type": "code",
   "execution_count": 242,
   "id": "121ea672-b274-4967-b5f8-c38e6fd298d5",
   "metadata": {},
   "outputs": [
    {
     "data": {
      "text/html": [
       "<div>\n",
       "<style scoped>\n",
       "    .dataframe tbody tr th:only-of-type {\n",
       "        vertical-align: middle;\n",
       "    }\n",
       "\n",
       "    .dataframe tbody tr th {\n",
       "        vertical-align: top;\n",
       "    }\n",
       "\n",
       "    .dataframe thead th {\n",
       "        text-align: right;\n",
       "    }\n",
       "</style>\n",
       "<table border=\"1\" class=\"dataframe\">\n",
       "  <thead>\n",
       "    <tr style=\"text-align: right;\">\n",
       "      <th></th>\n",
       "      <th>source</th>\n",
       "      <th>destination</th>\n",
       "      <th>benefit</th>\n",
       "    </tr>\n",
       "  </thead>\n",
       "  <tbody>\n",
       "    <tr>\n",
       "      <th>1</th>\n",
       "      <td>0</td>\n",
       "      <td>2</td>\n",
       "      <td>26.6</td>\n",
       "    </tr>\n",
       "  </tbody>\n",
       "</table>\n",
       "</div>"
      ],
      "text/plain": [
       "   source  destination  benefit\n",
       "1       0            2     26.6"
      ]
     },
     "execution_count": 242,
     "metadata": {},
     "output_type": "execute_result"
    }
   ],
   "source": [
    "##### k = 2 # Next recommended road to be built is the road segment (0,2)\n",
    "max_benefit_matrix = TrafficAnalyzer.get_max_road_benefit(r2_benefit_matrix)\n",
    "max_benefit_matrix"
   ]
  },
  {
   "cell_type": "code",
   "execution_count": 243,
   "id": "59150b72-2111-4e42-8e4c-12ddb0d12a7f",
   "metadata": {},
   "outputs": [
    {
     "name": "stdout",
     "output_type": "stream",
     "text": [
      "(2, 3)\n"
     ]
    }
   ],
   "source": [
    "source, destination = get_max_benefit_road_segment(r2_max_benefit_matrix)\n",
    "print(f\"({source}, {destination})\")"
   ]
  },
  {
   "cell_type": "code",
   "execution_count": 244,
   "id": "5fc1d608-272a-4188-b676-6047dfad3709",
   "metadata": {},
   "outputs": [
    {
     "name": "stdout",
     "output_type": "stream",
     "text": [
      "{(0, 1): 6, (0, 4): 9, (1, 3): 11, (4, 2): 10, (4, 3): 7, (3, 2): 6.119999999999999}\n"
     ]
    },
    {
     "data": {
      "image/png": "[encoded data removed]",
      "text/plain": [
       "<Figure size 640x480 with 1 Axes>"
      ]
     },
     "metadata": {},
     "output_type": "display_data"
    }
   ],
   "source": [
    "CityMap.add_road_segment(r2_city_map, source, destination)\n",
    "CityMap.visualize_city_map(r2_city_map)"
   ]
  },
  {
   "cell_type": "code",
   "execution_count": null,
   "id": "2164bd9c-4b30-46a3-be5f-9b69ed821efe",
   "metadata": {},
   "outputs": [],
   "source": []
  }
 ],
 "metadata": {
  "kernelspec": {
   "display_name": "Python 3 (ipykernel)",
   "language": "python",
   "name": "python3"
  },
  "language_info": {
   "codemirror_mode": {
    "name": "ipython",
    "version": 3
   },
   "file_extension": ".py",
   "mimetype": "text/x-python",
   "name": "python",
   "nbconvert_exporter": "python",
   "pygments_lexer": "ipython3",
   "version": "3.9.5"
  }
 },
 "nbformat": 4,
 "nbformat_minor": 5
}
