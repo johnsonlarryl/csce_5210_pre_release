{
 "cells": [
  {
   "cell_type": "code",
   "execution_count": 1,
   "id": "234c5493-66ba-4c8c-a452-7c3cd203e736",
   "metadata": {},
   "outputs": [],
   "source": [
    "import networkx as nx\n",
    "import sys"
   ]
  },
  {
   "cell_type": "code",
   "execution_count": 2,
   "id": "06f88626-c7e5-41e6-9920-07a5f5c58de8",
   "metadata": {},
   "outputs": [],
   "source": [
    "sys.path.append(\"../\")"
   ]
  },
  {
   "cell_type": "code",
   "execution_count": 3,
   "id": "b62f51ef-2169-4fd0-9899-a79da3913af8",
   "metadata": {},
   "outputs": [],
   "source": [
    "from traffic_simulator.model import Location, Road, Trip"
   ]
  },
  {
   "cell_type": "code",
   "execution_count": 13,
   "id": "da7614e0-0dc1-45b1-b23c-21593248cb93",
   "metadata": {},
   "outputs": [
    {
     "ename": "TypeError",
     "evalue": "Traffic volume has to be greater than 0 trips.",
     "output_type": "error",
     "traceback": [
      "\u001b[0;31m---------------------------------------------------------------------------\u001b[0m",
      "\u001b[0;31mTypeError\u001b[0m                                 Traceback (most recent call last)",
      "Cell \u001b[0;32mIn[13], line 1\u001b[0m\n\u001b[0;32m----> 1\u001b[0m road \u001b[38;5;241m=\u001b[39m \u001b[43mRoad\u001b[49m\u001b[43m(\u001b[49m\u001b[43mtraffic_volume\u001b[49m\u001b[38;5;241;43m=\u001b[39;49m\u001b[38;5;241;43m0\u001b[39;49m\u001b[43m)\u001b[49m\n\u001b[1;32m      2\u001b[0m road\u001b[38;5;241m.\u001b[39m\u001b[38;5;18m__dict__\u001b[39m\n",
      "File \u001b[0;32m<string>:4\u001b[0m, in \u001b[0;36m__init__\u001b[0;34m(self, traffic_volume)\u001b[0m\n",
      "File \u001b[0;32m~/Documents/workspaces/github/unt/csce_5210_pre_release/traffic_simulator/notebooks/../traffic_simulator/model.py:30\u001b[0m, in \u001b[0;36mRoad.__post_init__\u001b[0;34m(self)\u001b[0m\n\u001b[1;32m     28\u001b[0m \u001b[38;5;28;01mdef\u001b[39;00m \u001b[38;5;21m__post_init__\u001b[39m(\u001b[38;5;28mself\u001b[39m):\n\u001b[1;32m     29\u001b[0m     \u001b[38;5;28;01mif\u001b[39;00m \u001b[38;5;28mself\u001b[39m\u001b[38;5;241m.\u001b[39mtraffic_volume \u001b[38;5;241m<\u001b[39m\u001b[38;5;241m=\u001b[39m \u001b[38;5;241m0\u001b[39m:\n\u001b[0;32m---> 30\u001b[0m         \u001b[38;5;28;01mraise\u001b[39;00m \u001b[38;5;167;01mTypeError\u001b[39;00m(\u001b[38;5;124mf\u001b[39m\u001b[38;5;124m'\u001b[39m\u001b[38;5;124mTraffic volume has to be greater than 0 trips.\u001b[39m\u001b[38;5;124m'\u001b[39m)\n",
      "\u001b[0;31mTypeError\u001b[0m: Traffic volume has to be greater than 0 trips."
     ]
    }
   ],
   "source": [
    "road = Road(traffic_volume=0)\n",
    "road.__dict__"
   ]
  },
  {
   "cell_type": "code",
   "execution_count": 10,
   "id": "e05007c6-68bf-40ce-943d-b134bee4ab18",
   "metadata": {},
   "outputs": [
    {
     "data": {
      "text/plain": [
       "UUID('bb5a38da-b70b-40fb-ba27-c6af4c702008')"
      ]
     },
     "execution_count": 10,
     "metadata": {},
     "output_type": "execute_result"
    }
   ],
   "source": [
    "road.uid"
   ]
  },
  {
   "cell_type": "code",
   "execution_count": 16,
   "id": "638bbebe-75e5-4365-98a7-53976e3c9d2c",
   "metadata": {},
   "outputs": [],
   "source": [
    "start = Location(name=0)\n",
    "end = Location(name=1)"
   ]
  },
  {
   "cell_type": "code",
   "execution_count": 12,
   "id": "b980be42-6493-4869-a57f-90ded0a7024e",
   "metadata": {},
   "outputs": [
    {
     "data": {
      "text/plain": [
       "{'name': 0}"
      ]
     },
     "execution_count": 12,
     "metadata": {},
     "output_type": "execute_result"
    }
   ],
   "source": [
    "location.__dict__"
   ]
  },
  {
   "cell_type": "code",
   "execution_count": 7,
   "id": "14e4428e-47f4-4fe1-b293-6d297ab123fd",
   "metadata": {},
   "outputs": [
    {
     "data": {
      "text/plain": [
       "UUID('74c7591b-62c9-4bae-b98f-887494bddd31')"
      ]
     },
     "execution_count": 7,
     "metadata": {},
     "output_type": "execute_result"
    }
   ],
   "source": [
    "location.uid"
   ]
  },
  {
   "cell_type": "code",
   "execution_count": 5,
   "id": "0d7e9f5b-03a4-4ae6-9ff0-6b140a8d500b",
   "metadata": {},
   "outputs": [
    {
     "ename": "AttributeError",
     "evalue": "Traffic attributes are immutable.",
     "output_type": "error",
     "traceback": [
      "\u001b[0;31m---------------------------------------------------------------------------\u001b[0m",
      "\u001b[0;31mAttributeError\u001b[0m                            Traceback (most recent call last)",
      "Cell \u001b[0;32mIn[5], line 1\u001b[0m\n\u001b[0;32m----> 1\u001b[0m \u001b[43mlocation\u001b[49m\u001b[38;5;241;43m.\u001b[39;49m\u001b[43mname\u001b[49m \u001b[38;5;241m=\u001b[39m \u001b[38;5;241m123\u001b[39m\n",
      "File \u001b[0;32m~/Documents/workspaces/github/unt/csce_5210_pre_release/traffic_simulator/notebooks/../traffic_simulator/model.py:15\u001b[0m, in \u001b[0;36mObject.__setattr__\u001b[0;34m(self, attr, value)\u001b[0m\n\u001b[1;32m     13\u001b[0m \u001b[38;5;28;01mdef\u001b[39;00m \u001b[38;5;21m__setattr__\u001b[39m(\u001b[38;5;28mself\u001b[39m, attr, value):\n\u001b[1;32m     14\u001b[0m     \u001b[38;5;28;01mif\u001b[39;00m attr \u001b[38;5;241m!=\u001b[39m \u001b[38;5;124m\"\u001b[39m\u001b[38;5;124m_uid\u001b[39m\u001b[38;5;124m\"\u001b[39m:\n\u001b[0;32m---> 15\u001b[0m         \u001b[38;5;28;01mraise\u001b[39;00m \u001b[38;5;167;01mAttributeError\u001b[39;00m(\u001b[38;5;124m\"\u001b[39m\u001b[38;5;124mTraffic attributes are immutable.\u001b[39m\u001b[38;5;124m\"\u001b[39m)\n\u001b[1;32m     17\u001b[0m     \u001b[38;5;28msuper\u001b[39m()\u001b[38;5;241m.\u001b[39m\u001b[38;5;21m__setattr__\u001b[39m(attr, value)\n",
      "\u001b[0;31mAttributeError\u001b[0m: Traffic attributes are immutable."
     ]
    }
   ],
   "source": [
    "location.name = 123"
   ]
  },
  {
   "cell_type": "code",
   "execution_count": 20,
   "id": "2e6c2415-479f-4099-a939-e15c2f6e58c6",
   "metadata": {},
   "outputs": [
    {
     "ename": "NameError",
     "evalue": "name 'length' is not defined",
     "output_type": "error",
     "traceback": [
      "\u001b[0;31m---------------------------------------------------------------------------\u001b[0m",
      "\u001b[0;31mNameError\u001b[0m                                 Traceback (most recent call last)",
      "Cell \u001b[0;32mIn[20], line 1\u001b[0m\n\u001b[0;32m----> 1\u001b[0m trip \u001b[38;5;241m=\u001b[39m Trip(start, end, \u001b[43mlength\u001b[49m)\n\u001b[1;32m      2\u001b[0m trip\n",
      "\u001b[0;31mNameError\u001b[0m: name 'length' is not defined"
     ]
    }
   ],
   "source": [
    "trip = Trip(start, end, length)\n",
    "trip"
   ]
  },
  {
   "cell_type": "code",
   "execution_count": null,
   "id": "7f53ab09-3ad4-4f98-8b07-bcf13ff942fc",
   "metadata": {},
   "outputs": [],
   "source": [
    "for i in range(0, 6):\n",
    "    location = Location(name=str(i))"
   ]
  },
  {
   "cell_type": "code",
   "execution_count": null,
   "id": "ea43e118-a577-4701-b43d-9167ac3cfb06",
   "metadata": {},
   "outputs": [],
   "source": [
    "graph = \n",
    "{\n",
    "    \"nodes\": [\n",
    "        {\"name\n",
    "}"
   ]
  }
 ],
 "metadata": {
  "kernelspec": {
   "display_name": "Python 3 (ipykernel)",
   "language": "python",
   "name": "python3"
  },
  "language_info": {
   "codemirror_mode": {
    "name": "ipython",
    "version": 3
   },
   "file_extension": ".py",
   "mimetype": "text/x-python",
   "name": "python",
   "nbconvert_exporter": "python",
   "pygments_lexer": "ipython3",
   "version": "3.9.5"
  }
 },
 "nbformat": 4,
 "nbformat_minor": 5
}
